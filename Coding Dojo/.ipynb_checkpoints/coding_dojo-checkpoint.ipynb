{
 "cells": [
  {
   "cell_type": "code",
   "execution_count": 1,
   "metadata": {},
   "outputs": [
    {
     "name": "stdout",
     "output_type": "stream",
     "text": [
      "Hello World\n"
     ]
    }
   ],
   "source": [
    "print(\"Hello World\")"
   ]
  },
  {
   "cell_type": "code",
   "execution_count": null,
   "metadata": {},
   "outputs": [],
   "source": [
    "# Jogador\n",
    "vida_player = 100\n",
    "armadura_magica_player = 10\n",
    "armadura_fisica_player = 10\n",
    "ataque_player = 10\n",
    "\n",
    "# Inimigo\n",
    "vida_inimigo = 100\n",
    "armadura_magica_inimigo = 10\n",
    "armadura_fisica_inimigo = 10\n",
    "ataque_inimigo = 10\n",
    "\n",
    "nome = input('Qual seu nome? ')\n",
    "contador_rodada = 0\n",
    "\n",
    "while vida > 0:\n",
    "    print('RODADA ', contador_rodada)\n",
    "    \n",
    "    \n",
    "    \n",
    "    \n",
    "    \n",
    "    contador_rodada += 1"
   ]
  }
 ],
 "metadata": {
  "kernelspec": {
   "display_name": "Python 3",
   "language": "python",
   "name": "python3"
  },
  "language_info": {
   "codemirror_mode": {
    "name": "ipython",
    "version": 3
   },
   "file_extension": ".py",
   "mimetype": "text/x-python",
   "name": "python",
   "nbconvert_exporter": "python",
   "pygments_lexer": "ipython3",
   "version": "3.7.4"
  }
 },
 "nbformat": 4,
 "nbformat_minor": 4
}
